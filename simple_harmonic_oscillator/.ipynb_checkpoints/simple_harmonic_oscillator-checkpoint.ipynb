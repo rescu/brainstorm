{
 "cells": [
  {
   "cell_type": "markdown",
   "metadata": {},
   "source": [
    "Classical Harmonic Oscillator\n",
    "====\n",
    "\n",
    "Many problems in physics come down to this simple relation:\n",
    "$$\n",
    "\\ddot{x} = -\\omega^2 x\n",
    "$$\n",
    "\n",
    "where $x$ can be any quantity and $\\omega$ can be any combination of relevant constants. The resultant motion is known as \"simple harmonic motion\", i.e.\n",
    "\n",
    "$$ x(t) = A \\cos(\\omega t + \\phi) $$\n",
    "\n",
    "Where $A$ is the amplitude of the motion, $\\omega$ is the collection of various constants from before, and $\\phi$ is a phase that is set by the initial conditions of the problem.\n",
    "\n",
    "It is traditional to consider a spring-mass system where a spring with rest length $x_0$ and spring constant $k$ is attached to a mass $m$. If we write down our expression for $\\ddot{x}$ using Newton's second law we find\n",
    "$$\n",
    "m \\ddot{x} = -k x\n",
    "$$\n",
    "which reduces to\n",
    "$$\n",
    "\\ddot{x} = -\\omega^2 x\n",
    "$$\n",
    "where \n",
    "$$\n",
    "\\omega = \\sqrt{\\frac{k}{m}}\n",
    "$$\n",
    "We can see that the oscillation frequency of the spring mass system is determined by the stiffness, $k$, of the spring and mass we have attached to it."
   ]
  },
  {
   "cell_type": "code",
   "execution_count": null,
   "metadata": {
    "collapsed": true
   },
   "outputs": [],
   "source": [
    "def undamped_oscillator_euler(x0,v0,k,m,tmax,dt):\n",
    "    "
   ]
  }
 ],
 "metadata": {
  "kernelspec": {
   "display_name": "Python 3",
   "language": "python",
   "name": "python3"
  },
  "language_info": {
   "codemirror_mode": {
    "name": "ipython",
    "version": 3
   },
   "file_extension": ".py",
   "mimetype": "text/x-python",
   "name": "python",
   "nbconvert_exporter": "python",
   "pygments_lexer": "ipython3",
   "version": "3.4.3"
  }
 },
 "nbformat": 4,
 "nbformat_minor": 0
}
